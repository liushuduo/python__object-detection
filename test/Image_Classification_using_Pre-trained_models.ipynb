{
 "cells": [
  {
   "cell_type": "markdown",
   "metadata": {},
   "source": [
    "# 使用预训练模型进行图像分类\n",
    "[这篇教程](https://learnopencv.com/pytorch-for-beginners-image-classification-using-pre-trained-models/)是PyTorch实战篇的第一篇。在这里我们将使用Pytorch内置的预训练模型解决**图像分类**问题。\n",
    "预训练模型是在大的benchmark数据集（如ImageNet)训练好的神经网络模型。\n",
    "在导入torchvision.models后，通过dir可以看到PyTorch内置了15个类的网络模型。其中首字母大写的为类，全部小写的为返回这些模型实例的函数。"
   ]
  },
  {
   "cell_type": "code",
   "execution_count": 5,
   "metadata": {},
   "outputs": [],
   "source": [
    "from torchvision import models\n",
    "import torch"
   ]
  },
  {
   "cell_type": "markdown",
   "metadata": {},
   "source": [
    "## 使用AlexNet进行图像分类\n",
    "![avatar](.asset/AlexNet-1.png)\n",
    "\n",
    "### 第一步：加载模型\n",
    "通过models中的函数alexnet加载模型，通过指定pretrained参数为真来使用预训练过模型。"
   ]
  },
  {
   "cell_type": "code",
   "execution_count": 6,
   "metadata": {},
   "outputs": [
    {
     "name": "stderr",
     "output_type": "stream",
     "text": [
      "Downloading: \"https://download.pytorch.org/models/alexnet-owt-7be5be79.pth\" to /Users/liushuduo/.cache/torch/hub/checkpoints/alexnet-owt-7be5be79.pth\n",
      "100.0%\n"
     ]
    },
    {
     "data": {
      "text/plain": [
       "==========================================================================================\n",
       "Layer (type:depth-idx)                   Output Shape              Param #\n",
       "==========================================================================================\n",
       "AlexNet                                  --                        --\n",
       "├─Sequential: 1-1                        [64, 256, 6, 6]           --\n",
       "│    └─Conv2d: 2-1                       [64, 64, 56, 56]          23,296\n",
       "│    └─ReLU: 2-2                         [64, 64, 56, 56]          --\n",
       "│    └─MaxPool2d: 2-3                    [64, 64, 27, 27]          --\n",
       "│    └─Conv2d: 2-4                       [64, 192, 27, 27]         307,392\n",
       "│    └─ReLU: 2-5                         [64, 192, 27, 27]         --\n",
       "│    └─MaxPool2d: 2-6                    [64, 192, 13, 13]         --\n",
       "│    └─Conv2d: 2-7                       [64, 384, 13, 13]         663,936\n",
       "│    └─ReLU: 2-8                         [64, 384, 13, 13]         --\n",
       "│    └─Conv2d: 2-9                       [64, 256, 13, 13]         884,992\n",
       "│    └─ReLU: 2-10                        [64, 256, 13, 13]         --\n",
       "│    └─Conv2d: 2-11                      [64, 256, 13, 13]         590,080\n",
       "│    └─ReLU: 2-12                        [64, 256, 13, 13]         --\n",
       "│    └─MaxPool2d: 2-13                   [64, 256, 6, 6]           --\n",
       "├─AdaptiveAvgPool2d: 1-2                 [64, 256, 6, 6]           --\n",
       "├─Sequential: 1-3                        [64, 1000]                --\n",
       "│    └─Dropout: 2-14                     [64, 9216]                --\n",
       "│    └─Linear: 2-15                      [64, 4096]                37,752,832\n",
       "│    └─ReLU: 2-16                        [64, 4096]                --\n",
       "│    └─Dropout: 2-17                     [64, 4096]                --\n",
       "│    └─Linear: 2-18                      [64, 4096]                16,781,312\n",
       "│    └─ReLU: 2-19                        [64, 4096]                --\n",
       "│    └─Linear: 2-20                      [64, 1000]                4,097,000\n",
       "==========================================================================================\n",
       "Total params: 61,100,840\n",
       "Trainable params: 61,100,840\n",
       "Non-trainable params: 0\n",
       "Total mult-adds (G): 45.91\n",
       "==========================================================================================\n",
       "Input size (MB): 39.57\n",
       "Forward/backward pass size (MB): 256.66\n",
       "Params size (MB): 244.40\n",
       "Estimated Total Size (MB): 540.64\n",
       "=========================================================================================="
      ]
     },
     "execution_count": 6,
     "metadata": {},
     "output_type": "execute_result"
    }
   ],
   "source": [
    "from torchinfo import summary\n",
    "batch_size = 64\n",
    "alexnet = models.alexnet(pretrained=True)\n",
    "summary(alexnet, input_size=[batch_size,3,227,227])"
   ]
  },
  {
   "cell_type": "markdown",
   "metadata": {},
   "source": [
    "## 第二步：指定图像变换\n",
    "为了使模型发挥最好的作用，我们需要先对模型进行预处理。这个过程一般包括图形的resize（把大小调整为网络的输入格式）、Crop（裁剪图像）、ToTensor（转换为pytorch的数据结构）、Normalization（归一化）等等。\n",
    "在这里，我们归一化使用的均值和方差是ImageNet所有图像的均值和方差。通过归一化操作可以把图片的值分布转换为标准正态分布。"
   ]
  },
  {
   "cell_type": "code",
   "execution_count": 7,
   "metadata": {},
   "outputs": [],
   "source": [
    "from torchvision import transforms\n",
    "transform = transforms.Compose([\n",
    "    transforms.Resize(256),\n",
    "    transforms.CenterCrop(224), \n",
    "    transforms.ToTensor(),\n",
    "    transforms.Normalize( \n",
    "        mean=[0.485, 0.456, 0.406], \n",
    "        std=[0.229, 0.224, 0.225]\n",
    "    )\n",
    "])"
   ]
  },
  {
   "cell_type": "markdown",
   "metadata": {},
   "source": [
    "## 第三步：接下来我们将使用AlexNet识别一张狗的照片\n",
    "![avatar](./dog.jpg)"
   ]
  },
  {
   "cell_type": "code",
   "execution_count": 8,
   "metadata": {},
   "outputs": [
    {
     "name": "stdout",
     "output_type": "stream",
     "text": [
      "torch.Size([1, 1000])\n"
     ]
    }
   ],
   "source": [
    "# Load Image\n",
    "from PIL import Image\n",
    "img = Image.open('dog.jpg')\n",
    "img_t = transform(img)\n",
    "batch_t = torch.unsqueeze(img_t, 0)\n",
    "\n",
    "# Model inference\n",
    "alexnet.eval()\n",
    "out = alexnet(batch_t)\n",
    "print(out.shape)"
   ]
  },
  {
   "cell_type": "markdown",
   "metadata": {},
   "source": [
    "可以看到模型输出了`[1,1000]`的tensor，接下来要把tensor转换为我们希望得到的目标种类。"
   ]
  },
  {
   "cell_type": "code",
   "execution_count": 10,
   "metadata": {},
   "outputs": [
    {
     "name": "stdout",
     "output_type": "stream",
     "text": [
      "258, Samoyed 66.32768249511719\n"
     ]
    }
   ],
   "source": [
    "with open('imagenet_classes.txt') as f:\n",
    "    classes = [line.strip() for line in f.readlines()]\n",
    "\n",
    "_, index = torch.max(out, 1)\n",
    "percentage = torch.nn.functional.softmax(out, dim=1)[0] * 100\n",
    "print(classes[index[0]], percentage[index[0]].item())"
   ]
  }
 ],
 "metadata": {
  "interpreter": {
   "hash": "32c6254295d556058def1d411e94b949ea42d61f10a24d5decff8fef582bb70d"
  },
  "kernelspec": {
   "display_name": "Python 3.9.7 64-bit ('cv': conda)",
   "language": "python",
   "name": "python3"
  },
  "language_info": {
   "codemirror_mode": {
    "name": "ipython",
    "version": 3
   },
   "file_extension": ".py",
   "mimetype": "text/x-python",
   "name": "python",
   "nbconvert_exporter": "python",
   "pygments_lexer": "ipython3",
   "version": "3.9.7"
  },
  "orig_nbformat": 4
 },
 "nbformat": 4,
 "nbformat_minor": 2
}
