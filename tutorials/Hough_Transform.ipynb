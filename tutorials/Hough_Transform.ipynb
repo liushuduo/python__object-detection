{
 "cells": [
  {
   "cell_type": "markdown",
   "metadata": {},
   "source": [
    "# Hough变换\n",
    "Hough变换通过把图形中可能出现模式的某些像素点变换到参数空间中，然后在参数空间对出现的模式进行积累，超过一定阈值就判断为该模式在图形空间中存在。因此理论上讲所有可以使用参数表示的模式都可以使用Hough变换进行检测。\n",
    "比如直线段的检测。一个直线可以表示为$y=ax+b$，这里的$a$和$b$就是参数，把可能出现模式的像素点$(x_0, y_0)$转换到$(a,b)$参数空间中，那么在参数空间中就是穿过这个点的一条直线。如果有参数为$(a_0, b_0)$为参数的一条直线在原空间中存在，那么在参数空间中对应的直线会在此参数位置交汇，再通过voting就可以确定其是否存在。\n",
    "## Circular Hough Transform OpenCV API\n",
    "Opencv中给出了CHT的api，其调用格式为：\n",
    "`cv2.HoughCircles(image, method, dp, minDist)`其中：\n",
    "- `image`为8位的灰度图片\n",
    "- `method`为实现方法，虽然设置了这个参数，但目前唯一的实现方法就是`cv2.HOUGH_GRADIENT`\n",
    "- `dp`用来调整积累器（或者叫voting）的累加速率，它的值越大，积累的值越小\n",
    "- `minDist`是检测到的圆圆心之间的最小距离\n",
    "其输出变量为`circles`，其中每个基本元素是包含三个或者四个元素的向量，其格式为`(x, y, radius, votes)`，前两个为圆的圆心，第三个为半径。\n",
    "以下以一个简单的几何图形为例说明opencv的API的使用方法"
   ]
  },
  {
   "cell_type": "code",
   "execution_count": 4,
   "metadata": {},
   "outputs": [],
   "source": [
    "import numpy as np\n",
    "import cv2 as cv \n",
    "import matplotlib.pyplot as plt\n",
    "\n",
    "image = cv.imread('./raw/hough_transform/olympics.jpg')\n",
    "output = image.copy()\n",
    "gray = cv.cvtColor(image, cv.COLOR_BGR2GRAY)\n",
    "circles = cv.HoughCircles(gray, cv.HOUGH_GRADIENT, 1.2, 100)"
   ]
  },
  {
   "cell_type": "code",
   "execution_count": 17,
   "metadata": {},
   "outputs": [],
   "source": [
    "def process_result(circles, img):\n",
    "    \n",
    "    if circles:\n",
    "        circles = np.round(circles[0, :, :]).astype(\"int\")\n",
    "        \n",
    "        for (x, y, r) in circles:\n",
    "            cv.circle(img, (x, y), r, (0, 255, 0), 4)\n",
    "            cv.rectangle(img, (x-5, y-5), (x+5, y+5), (0, 128, 255), -1)\n",
    "\n",
    "    plt.imshow(img)"
   ]
  },
  {
   "cell_type": "code",
   "execution_count": 18,
   "metadata": {},
   "outputs": [
    {
     "ename": "ValueError",
     "evalue": "The truth value of an array with more than one element is ambiguous. Use a.any() or a.all()",
     "output_type": "error",
     "traceback": [
      "\u001b[1;31m---------------------------------------------------------------------------\u001b[0m",
      "\u001b[1;31mValueError\u001b[0m                                Traceback (most recent call last)",
      "\u001b[1;32m~\\AppData\\Local\\Temp/ipykernel_23932/2476759551.py\u001b[0m in \u001b[0;36m<module>\u001b[1;34m\u001b[0m\n\u001b[1;32m----> 1\u001b[1;33m \u001b[0mprocess_result\u001b[0m\u001b[1;33m(\u001b[0m\u001b[0mcircles\u001b[0m\u001b[1;33m,\u001b[0m \u001b[0mimage\u001b[0m\u001b[1;33m)\u001b[0m\u001b[1;33m\u001b[0m\u001b[1;33m\u001b[0m\u001b[0m\n\u001b[0m",
      "\u001b[1;32m~\\AppData\\Local\\Temp/ipykernel_23932/384897823.py\u001b[0m in \u001b[0;36mprocess_result\u001b[1;34m(circles, img)\u001b[0m\n\u001b[0;32m      1\u001b[0m \u001b[1;32mdef\u001b[0m \u001b[0mprocess_result\u001b[0m\u001b[1;33m(\u001b[0m\u001b[0mcircles\u001b[0m\u001b[1;33m,\u001b[0m \u001b[0mimg\u001b[0m\u001b[1;33m)\u001b[0m\u001b[1;33m:\u001b[0m\u001b[1;33m\u001b[0m\u001b[1;33m\u001b[0m\u001b[0m\n\u001b[0;32m      2\u001b[0m \u001b[1;33m\u001b[0m\u001b[0m\n\u001b[1;32m----> 3\u001b[1;33m     \u001b[1;32mif\u001b[0m \u001b[0mcircles\u001b[0m\u001b[1;33m:\u001b[0m\u001b[1;33m\u001b[0m\u001b[1;33m\u001b[0m\u001b[0m\n\u001b[0m\u001b[0;32m      4\u001b[0m         \u001b[0mcircles\u001b[0m \u001b[1;33m=\u001b[0m \u001b[0mnp\u001b[0m\u001b[1;33m.\u001b[0m\u001b[0mround\u001b[0m\u001b[1;33m(\u001b[0m\u001b[0mcircles\u001b[0m\u001b[1;33m[\u001b[0m\u001b[1;36m0\u001b[0m\u001b[1;33m,\u001b[0m \u001b[1;33m:\u001b[0m\u001b[1;33m,\u001b[0m \u001b[1;33m:\u001b[0m\u001b[1;33m]\u001b[0m\u001b[1;33m)\u001b[0m\u001b[1;33m.\u001b[0m\u001b[0mastype\u001b[0m\u001b[1;33m(\u001b[0m\u001b[1;34m\"int\"\u001b[0m\u001b[1;33m)\u001b[0m\u001b[1;33m\u001b[0m\u001b[1;33m\u001b[0m\u001b[0m\n\u001b[0;32m      5\u001b[0m \u001b[1;33m\u001b[0m\u001b[0m\n",
      "\u001b[1;31mValueError\u001b[0m: The truth value of an array with more than one element is ambiguous. Use a.any() or a.all()"
     ]
    }
   ],
   "source": [
    "process_result(circles, image)"
   ]
  }
 ],
 "metadata": {
  "interpreter": {
   "hash": "32c6254295d556058def1d411e94b949ea42d61f10a24d5decff8fef582bb70d"
  },
  "kernelspec": {
   "display_name": "Python 3.9.7 64-bit ('cv': conda)",
   "language": "python",
   "name": "python3"
  },
  "language_info": {
   "codemirror_mode": {
    "name": "ipython",
    "version": 3
   },
   "file_extension": ".py",
   "mimetype": "text/x-python",
   "name": "python",
   "nbconvert_exporter": "python",
   "pygments_lexer": "ipython3",
   "version": "3.9.7"
  },
  "orig_nbformat": 4
 },
 "nbformat": 4,
 "nbformat_minor": 2
}
