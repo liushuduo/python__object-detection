{
 "cells": [
  {
   "cell_type": "markdown",
   "metadata": {},
   "source": [
    "# Non-maximum Suppression\n",
    "Non-maximumSuppression是一类可以让我们在一系列重叠的目标中选择最好的一个目标的算法。\n",
    "## 交并比（Intersection Over Union, IoU）\n",
    "IoU（有时候也叫做Jaccard系数），是我们衡量**gound truth的bbox**和**模型预测出的bbox**的重叠率的一个指标。然而在non-maximum suppression的中，我们对两个预测出的bbox计算IoU。"
   ]
  },
  {
   "cell_type": "code",
   "execution_count": null,
   "metadata": {},
   "outputs": [],
   "source": [
    "def compute_iou(bbox_a, bbox_b):\n",
    "    \"\"\"Compute IoU of two bounding box \n",
    "\n",
    "    Args:\n",
    "        bbox_a (tuple in list): [(leftupper_x, _y), (rightbottom_x, y)]\n",
    "        bbox_b (same as bbox_a)\n",
    "\n",
    "    Returns:\n",
    "        [float]: IoU of two boxes\n",
    "    \"\"\"\n",
    "    a_x1, a_y1 = bbox_a[0]\n",
    "    a_x2, a_y2 = bbox_a[1]\n",
    "    b_x1, b_y1 = bbox_b[0]\n",
    "    b_x2, b_y2 = bbox_b[1]\n",
    "\n",
    "    a_area = (a_x2 - a_x1) * (a_y2 - a_y1)\n",
    "    b_area = (b_x2 - b_x1) * (a_y2 - a_y1)\n",
    "    \n",
    "    x1 = max(a_x1, b_x1)\n",
    "    y1 = max(a_y1, b_y1)\n",
    "    x2 = min(a_x2, b_x2)\n",
    "    y2 = min(a_y2, b_y2)\n",
    "    \n",
    "    w = max(0, x2 - x1)\n",
    "    h = max(0, y2 - y1)\n",
    "    area = w * h\n",
    "    \n",
    "    iou  = area / (a_area + b_area - area)\n",
    "    return iou"
   ]
  },
  {
   "cell_type": "markdown",
   "metadata": {},
   "source": [
    "算法的输入为bbox的列表`P`，其中的元素形式为`(x1, y1, x2, y2, c)`，分别代表了bbox的左上角和右下角坐标以及此bbox的置信度（score），同时需要设置一个IoU的阈值`thresh_iou`。最后函数输出过滤后的最终bbox列表`keep`\n",
    "算法分以下三步：\n",
    "1. 选择`P`中置信度最高的bbox `S`，将其移入`keep`中。\n",
    "2. 将`S`与`P`中剩余的bbox分别计算IoU。如果某bbox的IoU高于阈值那么从`P`中移除该bbox。\n",
    "3. 如果此时`P`中仍有预测bbox，那么重复步骤一；否则返回`keep`。"
   ]
  },
  {
   "cell_type": "code",
   "execution_count": null,
   "metadata": {},
   "outputs": [],
   "source": [
    "def NMS(P, thresh_iou:float):\n",
    "    x1, y1 = P[:, 0], P[:, 1]\n",
    "    x2, y2 = P[:, 2], P[:, 3]\n",
    "    scores = P[:, 4]\n",
    "    \n",
    "    # Calculate area of every block in P\n",
    "    areas = (x2 - x1) * (y2 - y1)\n",
    "    order = scores.argsort()\n",
    "    keep = list()\n",
    "    \n",
    "    while len(order) > 0:\n",
    "        \n",
    "        # Find the one with max score\n",
    "        idx = order[-1]\n",
    "        \n",
    "        # Add it to `keep` and remove from `P` \n",
    "        keep.append(P[idx])\n",
    "        order = order[:-1]\n",
    "        \n",
    "        if len(order) == 0:\n",
    "            break\n",
    "        "
   ]
  }
 ],
 "metadata": {
  "language_info": {
   "name": "python"
  },
  "orig_nbformat": 4
 },
 "nbformat": 4,
 "nbformat_minor": 2
}
